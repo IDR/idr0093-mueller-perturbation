{
 "cells": [
  {
   "cell_type": "markdown",
   "metadata": {},
   "source": [
    "## Explore the results associated to idr0093\n",
    "This notebook retrieves analytical results associated to the IDR study and plots the results"
   ]
  },
  {
   "cell_type": "markdown",
   "metadata": {},
   "source": [
    "## Tasks\n",
    "* Connect to IDR\n",
    "* Load the CSV files attached to the study\n",
    "* Plot the results"
   ]
  },
  {
   "cell_type": "markdown",
   "metadata": {},
   "source": [
    "## Collect parameters"
   ]
  },
  {
   "cell_type": "code",
   "execution_count": null,
   "metadata": {},
   "outputs": [],
   "source": [
    "# Parameters:"
   ]
  },
  {
   "cell_type": "markdown",
   "metadata": {},
   "source": [
    "## Load the libraries"
   ]
  },
  {
   "cell_type": "code",
   "execution_count": 3,
   "metadata": {},
   "outputs": [
    {
     "name": "stderr",
     "output_type": "stream",
     "text": [
      "Loading required package: rJava\n",
      "\n",
      "Loading required package: jpeg\n",
      "\n",
      "Loading required package: httr\n",
      "\n",
      "\n",
      "*** Welcome to rOMERO 0.4.10 ***\n",
      "\n",
      "\n"
     ]
    }
   ],
   "source": [
    "library(magrittr)\n",
    "library(ggplot2)\n",
    "library(readr)\n",
    "library(romero.gateway)"
   ]
  },
  {
   "cell_type": "markdown",
   "metadata": {},
   "source": [
    "## Log in to the IDR "
   ]
  },
  {
   "cell_type": "code",
   "execution_count": 4,
   "metadata": {},
   "outputs": [
    {
     "data": {
      "text/html": [
       "'Successfully logged in as public'"
      ],
      "text/latex": [
       "'Successfully logged in as public'"
      ],
      "text/markdown": [
       "'Successfully logged in as public'"
      ],
      "text/plain": [
       "[1] \"Successfully logged in as public\""
      ]
     },
     "metadata": {},
     "output_type": "display_data"
    }
   ],
   "source": [
    "server <- OMEROServer(host = 'wss://idr.openmicroscopy.org/omero-ws', port = 443L, username='public', password='public')\n",
    "server <- connect(server)\n",
    "paste('Successfully logged in as', server@user$getUserName())"
   ]
  },
  {
   "cell_type": "markdown",
   "metadata": {},
   "source": [
    "## Load the results associated to the study"
   ]
  },
  {
   "cell_type": "code",
   "execution_count": null,
   "metadata": {},
   "outputs": [],
   "source": [
    "screenId <- 2751\n",
    "fileLibrary <- 'screenA-library.csv'\n",
    "fileProcessed <- 'screenA-processed.csv'"
   ]
  },
  {
   "cell_type": "markdown",
   "metadata": {},
   "source": [
    "### Find the attachments"
   ]
  },
  {
   "cell_type": "code",
   "execution_count": null,
   "metadata": {},
   "outputs": [],
   "source": [
    "omeScreen <- loadObject(server, 'ScreenData', screenId)\n",
    "fileLibraryAnnotation <- getAnnotations(server, 'ScreenData', getOMEROID(omeScreen), nameFilter = fileLibrary)\n",
    "fileProcessedAnnotation <- getAnnotations(server, 'ScreenData', getOMEROID(omeScreen), nameFilter = fileProcessed)\n",
    "annotationFileLibraryID = as.integer(fileLibraryAnnotation$FileID)\n",
    "annotationFileLibraryID <- annotationFileLibraryID[[length(annotationFileLibraryID)]]\n",
    "annotationFileProcessedID = as.integer(fileProcessedAnnotation$FileID)\n",
    "annotationFileProcessedID <- annotationFileProcessedID[[length(annotationFileProcessedID)]]"
   ]
  },
  {
   "cell_type": "markdown",
   "metadata": {},
   "source": [
    "## Load the results associated to the plate\n",
    "We load the plate and find the results linked to it and extract its number from the file name."
   ]
  },
  {
   "cell_type": "code",
   "execution_count": null,
   "metadata": {},
   "outputs": [],
   "source": [
    "omePlate <- loadObject(server, 'PlateData', plateId)"
   ]
  },
  {
   "cell_type": "code",
   "execution_count": null,
   "metadata": {},
   "outputs": [],
   "source": [
    "annotations <- getAnnotations(server, 'PlateData', getOMEROID(omePlate))\n",
    "names <- annotations$Name\n",
    "ids <- annotations$FileID\n",
    "i = 1\n",
    "for (n in names) {\n",
    "    if (startsWith(n, 'single_cell_features_raw')) {\n",
    "        annotationFileRawSingleCellID <- ids[[i]]\n",
    "        plateNumber <- sub('.*_([0-9]+).*','\\\\1',n)\n",
    "    } else if (startsWith(n, 'single_cell_features_processed')) {\n",
    "        annotationFileProcessedSingleCellID <- ids[[i]]\n",
    "    }\n",
    "    i <- i+1\n",
    "}"
   ]
  },
  {
   "cell_type": "markdown",
   "metadata": {},
   "source": [
    "### Load the annotations as R-Dataframes"
   ]
  },
  {
   "cell_type": "code",
   "execution_count": null,
   "metadata": {},
   "outputs": [],
   "source": [
    "lib <- loadCSV(server, annotationFileLibraryID)\n",
    "well_summaries <- loadCSV(server, annotationFileProcessedID)\n",
    "raw_single_cell <- loadCSV(server, annotationFileRawSingleCellID)\n",
    "processed_single_cell <- loadCSV(server, annotationFileProcessedSingleCellID)"
   ]
  },
  {
   "cell_type": "markdown",
   "metadata": {},
   "source": [
    "## Close the connection "
   ]
  },
  {
   "cell_type": "code",
   "execution_count": 5,
   "metadata": {},
   "outputs": [],
   "source": [
    "disconnect(server)"
   ]
  },
  {
   "cell_type": "markdown",
   "metadata": {},
   "source": [
    "## Show distributions of phenotypes\n",
    "Example to show joining of library and summaries files to plot distributions of a quantitative phenotype."
   ]
  },
  {
   "cell_type": "code",
   "execution_count": null,
   "metadata": {},
   "outputs": [],
   "source": [
    "lib %>%\n",
    "  dplyr::left_join(well_summaries,by=c(\"Plate\",\"Well\")) %>%\n",
    "  dplyr::select(residuals_mean_EU_model,phenotype_mean_EU_model,`Gene.Symbol`) %>%\n",
    "  dplyr::mutate(negative_control = `Gene.Symbol`==\"Scrambled\") %>%\n",
    "  dplyr::filter(!is.na(`Gene.Symbol`)) %>%\n",
    "  ggplot(aes(x=residuals_mean_EU_model,fill=as.factor(phenotype_mean_EU_model))) + \n",
    "  geom_histogram(bins = 100) + \n",
    "  facet_grid(negative_control~.,labeller = \"label_both\") +\n",
    "  scale_fill_discrete(\"Mean EU phenotype\") +\n",
    "  theme_minimal()"
   ]
  },
  {
   "cell_type": "markdown",
   "metadata": {},
   "source": [
    "## Show top hits\n",
    "Example to show joining of library and summaries files to list all mean-EU hits on the selected plate. "
   ]
  },
  {
   "cell_type": "code",
   "execution_count": null,
   "metadata": {},
   "outputs": [],
   "source": [
    "lib %>%\n",
    "  dplyr::left_join(well_summaries,by=c(\"Plate\",\"Well\")) %>%\n",
    "  dplyr::filter(phenotype_mean_EU_model != 0) %>%\n",
    "  dplyr::filter(Plate==plateNumber) %>%\n",
    "  dplyr::select(`Gene.Symbol`,residuals_mean_EU_model,phenotype_mean_EU_model) %>%\n",
    "  dplyr::arrange(dplyr::desc(residuals_mean_EU_model)) "
   ]
  },
  {
   "cell_type": "markdown",
   "metadata": {},
   "source": [
    "## Compare raw and processed\n",
    "Example to show comparison of raw and processed feature values. Note that offset arises from background correction (subtraction of a constant value) and slope change arises from plate-to-plate correction (plate-wise multiplication to equalise scrambled medians). "
   ]
  },
  {
   "cell_type": "code",
   "execution_count": null,
   "metadata": {},
   "outputs": [],
   "source": [
    "processed_single_cell %>%\n",
    "  dplyr::filter(Well==\"G06\") %>%\n",
    "  dplyr::inner_join(raw_single_cell,by=c(\"Object_ID\",\"Plate\",\"Well\",\"well_pos_y\",\"well_pos_x\"),suffix=c(\"_processed\",\"_raw\")) %>%\n",
    "  ggplot(aes(x=Nuclei_Intensity_Mean_EU_raw,Nuclei_Intensity_Mean_EU_processed)) +\n",
    "  geom_point() +\n",
    "  geom_abline() +\n",
    "  theme_minimal() +\n",
    "  expand_limits(x=0,y=0)"
   ]
  },
  {
   "cell_type": "markdown",
   "metadata": {},
   "source": [
    "## Single cell data with library info\n",
    "Example to show joining of library, summaries and processed single cell data to plot the single cell EU measurements as a function of protein content and cell cycle stage, for all mean-EU ‘hits’ on the selected plate. "
   ]
  },
  {
   "cell_type": "code",
   "execution_count": 19,
   "metadata": {},
   "outputs": [],
   "source": [
    "processed_single_cell <- processed_single_cell[sample(1:nrow(processed_single_cell), 150000, replace=FALSE),]"
   ]
  },
  {
   "cell_type": "code",
   "execution_count": null,
   "metadata": {},
   "outputs": [],
   "source": [
"processed_single_cell %>%\n",
    "  dplyr::filter(Plate==plateNumber) %>%\n",
    "  dplyr::left_join(well_summaries,by=c(\"Plate\",\"Well\")) %>%\n",
    "  dplyr::left_join(lib,by = c(\"Plate\", \"Well\")) %>% {\n",
    "    ggplot() +\n",
    "      geom_point(data=dplyr::filter(.,`Gene.Symbol`==\"Scrambled\") %>% \n",
    "                            dplyr::select(Cell_Intensity_Sum_SE,\n",
    "                                          Nuclei_Intensity_Sum_EU),\n",
    "                          mapping=aes(x=Cell_Intensity_Sum_SE,\n",
    "                                      y=Nuclei_Intensity_Sum_EU), color=\"grey80\", size=0.1) +\n",
    "      geom_point(data=dplyr::filter(.,phenotype_mean_EU_model!=0 & `Gene.Symbol` !=\"KIF11\" ) %>% \n",
    "                            dplyr::select(phenotype_mean_EU_model,\n",
    "                                          Cell_Intensity_Sum_SE,\n",
    "                                          Nuclei_Intensity_Sum_EU,\n",
    "                                          Cell_Cycle_Stage,\n",
    "                                          `Gene.Symbol`,\n",
    "                                          Well) %>%\n",
    "                            dplyr::mutate(well_id = paste(`Gene.Symbol`,\"(\",Well,\")\")) %>%\n",
    "                            dplyr::distinct(),\n",
    "                          mapping=aes(x=Cell_Intensity_Sum_SE,\n",
    "                                      y=Nuclei_Intensity_Sum_EU,\n",
    "                                      col=Cell_Cycle_Stage), size=0.1) +\n",
    "      geom_text(data=dplyr::filter(.,phenotype_mean_EU_model!=0 & `Gene.Symbol` !=\"KIF11\" ) %>% \n",
    "                            dplyr::select(phenotype_mean_EU_model,\n",
    "                                          n_cells,\n",
    "                                          `Gene.Symbol`,\n",
    "                                          Well) %>%\n",
    "                            dplyr::mutate(well_id = paste(`Gene.Symbol`,\"(\",Well,\")\")) %>%\n",
    "                            dplyr::distinct(),\n",
    "                         mapping=aes(x=-Inf,y=Inf,label=paste(\"#cells =\",n_cells)),\n",
    "                         hjust=-0.1,vjust=1,size=8/.pt,fontface=\"plain\",family=\"sans\") +\n",
    "      facet_wrap(phenotype_mean_EU_model~well_id,labeller = \"label_both\",ncol=3) +\n",
    "      theme_minimal(base_size = 8) +\n",
    "      ggtitle(paste(\"Plate\", plateNumber, sep=\" \"))\n",
    "  }"
   ]
  },
  {
   "cell_type": "markdown",
   "metadata": {},
   "source": [
    "### License \n",
    "\n",
    "License\n",
    "Copyright (C) 2021 University of Dundee. All Rights Reserved.\n",
    "\n",
    "This program is free software; you can redistribute it and/or modify it under the terms of the GNU General Public License as published by the Free Software Foundation; either version 2 of the License, or (at your option) any later version.\n",
    "\n",
    "This program is distributed in the hope that it will be useful, but WITHOUT ANY WARRANTY; without even the implied warranty of MERCHANTABILITY or FITNESS FOR A PARTICULAR PURPOSE. See the GNU General Public License for more details. You should have received a copy of the GNU General Public License along with this program; if not, write to the Free Software Foundation, Inc., 51 Franklin Street, Fifth Floor, Boston, MA 02110-1301 USA."
   ]
  }
 ],
 "metadata": {
  "kernelspec": {
   "display_name": "R",
   "language": "R",
   "name": "ir"
  },
  "language_info": {
   "codemirror_mode": "r",
   "file_extension": ".r",
   "mimetype": "text/x-r-source",
   "name": "R",
   "pygments_lexer": "r",
   "version": "3.5.1"
  }
 },
 "nbformat": 4,
 "nbformat_minor": 4
}
